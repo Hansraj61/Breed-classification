{
 "cells": [
  {
   "cell_type": "code",
   "execution_count": 11,
   "id": "377565e3",
   "metadata": {},
   "outputs": [],
   "source": [
    "import pandas as pd\n",
    "import numpy as np\n",
    "import cv2"
   ]
  },
  {
   "cell_type": "code",
   "execution_count": 12,
   "id": "08cfe37e",
   "metadata": {},
   "outputs": [],
   "source": [
    "import os"
   ]
  },
  {
   "cell_type": "code",
   "execution_count": 16,
   "id": "49c8576d",
   "metadata": {},
   "outputs": [
    {
     "data": {
      "text/plain": [
       "'D:\\\\images data\\\\dataset'"
      ]
     },
     "execution_count": 16,
     "metadata": {},
     "output_type": "execute_result"
    }
   ],
   "source": [
    "os.getcwd()"
   ]
  },
  {
   "cell_type": "code",
   "execution_count": 14,
   "id": "7036af53",
   "metadata": {},
   "outputs": [],
   "source": [
    "os.chdir(r\"D:\\images data\\dataset\")"
   ]
  },
  {
   "cell_type": "code",
   "execution_count": 15,
   "id": "3303cc65",
   "metadata": {},
   "outputs": [
    {
     "data": {
      "text/plain": [
       "['Beagle',\n",
       " 'Boxer',\n",
       " 'Bulldog',\n",
       " 'Dachshund',\n",
       " 'German_Shepherd',\n",
       " 'Golden_Retriever',\n",
       " 'Labrador_Retriever',\n",
       " 'Poodle',\n",
       " 'Rottweiler',\n",
       " 'Yorkshire_Terrier']"
      ]
     },
     "execution_count": 15,
     "metadata": {},
     "output_type": "execute_result"
    }
   ],
   "source": [
    "os.listdir()"
   ]
  },
  {
   "cell_type": "code",
   "execution_count": 6,
   "id": "0141152d",
   "metadata": {},
   "outputs": [],
   "source": [
    "file = os.getcwd()"
   ]
  },
  {
   "cell_type": "code",
   "execution_count": 7,
   "id": "d422ac66",
   "metadata": {},
   "outputs": [
    {
     "data": {
      "text/plain": [
       "'D:\\\\images data\\\\dataset'"
      ]
     },
     "execution_count": 7,
     "metadata": {},
     "output_type": "execute_result"
    }
   ],
   "source": [
    "file"
   ]
  },
  {
   "cell_type": "code",
   "execution_count": 37,
   "id": "b363b55e",
   "metadata": {},
   "outputs": [],
   "source": [
    "os.chdir(r\"D:\\images data\\dataset\")\n",
    "pic = []\n",
    "breed = []\n",
    "file = os.getcwd()\n",
    "for i in os.listdir():\n",
    "    \n",
    "    path = file+\"\\\\\"+i\n",
    "#     print(path)\n",
    "    os.chdir(path)\n",
    "#     print(os.getcwd())\n",
    "    for j in os.listdir():\n",
    "        \n",
    "        arr = cv2.imread(j)\n",
    "\n",
    "        \n",
    "        if arr is not None:\n",
    "            resized = cv2.resize(arr, (128, 128))\n",
    "            data = resized.flatten()\n",
    "            pic.append(data)\n",
    "            breed.append(i)\n",
    "#         \n",
    "#         "
   ]
  },
  {
   "cell_type": "code",
   "execution_count": 36,
   "id": "a8664060",
   "metadata": {},
   "outputs": [
    {
     "data": {
      "text/plain": [
       "'D:\\\\images data\\\\dataset\\\\Yorkshire_Terrier'"
      ]
     },
     "execution_count": 36,
     "metadata": {},
     "output_type": "execute_result"
    }
   ],
   "source": [
    "os.getcwd()"
   ]
  },
  {
   "cell_type": "code",
   "execution_count": 17,
   "id": "8598e5d0",
   "metadata": {},
   "outputs": [
    {
     "data": {
      "text/plain": [
       "'D:\\\\images data\\\\dataset'"
      ]
     },
     "execution_count": 17,
     "metadata": {},
     "output_type": "execute_result"
    }
   ],
   "source": [
    "os.getcwd()"
   ]
  },
  {
   "cell_type": "code",
   "execution_count": 18,
   "id": "d2d04055",
   "metadata": {},
   "outputs": [
    {
     "data": {
      "text/plain": [
       "['Beagle',\n",
       " 'Boxer',\n",
       " 'Bulldog',\n",
       " 'Dachshund',\n",
       " 'German_Shepherd',\n",
       " 'Golden_Retriever',\n",
       " 'Labrador_Retriever',\n",
       " 'Poodle',\n",
       " 'Rottweiler',\n",
       " 'Yorkshire_Terrier']"
      ]
     },
     "execution_count": 18,
     "metadata": {},
     "output_type": "execute_result"
    }
   ],
   "source": [
    "os.listdir()"
   ]
  },
  {
   "cell_type": "code",
   "execution_count": 38,
   "id": "980358d7",
   "metadata": {},
   "outputs": [
    {
     "data": {
      "text/plain": [
       "'D:\\\\images data\\\\dataset\\\\Beagle'"
      ]
     },
     "execution_count": 38,
     "metadata": {},
     "output_type": "execute_result"
    }
   ],
   "source": [
    "\"D:\\images data\\dataset\\Beagle\""
   ]
  },
  {
   "cell_type": "code",
   "execution_count": 39,
   "id": "297978d0",
   "metadata": {},
   "outputs": [],
   "source": [
    "df1 =pd.DataFrame(breed,columns=[\"Breed\"])"
   ]
  },
  {
   "cell_type": "code",
   "execution_count": 40,
   "id": "92e61b93",
   "metadata": {},
   "outputs": [
    {
     "data": {
      "text/html": [
       "<div>\n",
       "<style scoped>\n",
       "    .dataframe tbody tr th:only-of-type {\n",
       "        vertical-align: middle;\n",
       "    }\n",
       "\n",
       "    .dataframe tbody tr th {\n",
       "        vertical-align: top;\n",
       "    }\n",
       "\n",
       "    .dataframe thead th {\n",
       "        text-align: right;\n",
       "    }\n",
       "</style>\n",
       "<table border=\"1\" class=\"dataframe\">\n",
       "  <thead>\n",
       "    <tr style=\"text-align: right;\">\n",
       "      <th></th>\n",
       "      <th>0</th>\n",
       "      <th>1</th>\n",
       "      <th>2</th>\n",
       "      <th>3</th>\n",
       "      <th>4</th>\n",
       "      <th>5</th>\n",
       "      <th>6</th>\n",
       "      <th>7</th>\n",
       "      <th>8</th>\n",
       "      <th>9</th>\n",
       "      <th>...</th>\n",
       "      <th>49142</th>\n",
       "      <th>49143</th>\n",
       "      <th>49144</th>\n",
       "      <th>49145</th>\n",
       "      <th>49146</th>\n",
       "      <th>49147</th>\n",
       "      <th>49148</th>\n",
       "      <th>49149</th>\n",
       "      <th>49150</th>\n",
       "      <th>49151</th>\n",
       "    </tr>\n",
       "  </thead>\n",
       "  <tbody>\n",
       "    <tr>\n",
       "      <th>0</th>\n",
       "      <td>0</td>\n",
       "      <td>1</td>\n",
       "      <td>0</td>\n",
       "      <td>0</td>\n",
       "      <td>3</td>\n",
       "      <td>1</td>\n",
       "      <td>3</td>\n",
       "      <td>8</td>\n",
       "      <td>6</td>\n",
       "      <td>9</td>\n",
       "      <td>...</td>\n",
       "      <td>146</td>\n",
       "      <td>108</td>\n",
       "      <td>121</td>\n",
       "      <td>143</td>\n",
       "      <td>108</td>\n",
       "      <td>121</td>\n",
       "      <td>143</td>\n",
       "      <td>109</td>\n",
       "      <td>122</td>\n",
       "      <td>144</td>\n",
       "    </tr>\n",
       "    <tr>\n",
       "      <th>1</th>\n",
       "      <td>255</td>\n",
       "      <td>255</td>\n",
       "      <td>255</td>\n",
       "      <td>255</td>\n",
       "      <td>255</td>\n",
       "      <td>255</td>\n",
       "      <td>255</td>\n",
       "      <td>255</td>\n",
       "      <td>255</td>\n",
       "      <td>255</td>\n",
       "      <td>...</td>\n",
       "      <td>255</td>\n",
       "      <td>255</td>\n",
       "      <td>255</td>\n",
       "      <td>255</td>\n",
       "      <td>255</td>\n",
       "      <td>255</td>\n",
       "      <td>255</td>\n",
       "      <td>255</td>\n",
       "      <td>255</td>\n",
       "      <td>255</td>\n",
       "    </tr>\n",
       "    <tr>\n",
       "      <th>2</th>\n",
       "      <td>201</td>\n",
       "      <td>178</td>\n",
       "      <td>186</td>\n",
       "      <td>197</td>\n",
       "      <td>180</td>\n",
       "      <td>187</td>\n",
       "      <td>175</td>\n",
       "      <td>167</td>\n",
       "      <td>172</td>\n",
       "      <td>135</td>\n",
       "      <td>...</td>\n",
       "      <td>173</td>\n",
       "      <td>146</td>\n",
       "      <td>156</td>\n",
       "      <td>170</td>\n",
       "      <td>145</td>\n",
       "      <td>153</td>\n",
       "      <td>165</td>\n",
       "      <td>145</td>\n",
       "      <td>152</td>\n",
       "      <td>161</td>\n",
       "    </tr>\n",
       "    <tr>\n",
       "      <th>3</th>\n",
       "      <td>221</td>\n",
       "      <td>215</td>\n",
       "      <td>220</td>\n",
       "      <td>223</td>\n",
       "      <td>217</td>\n",
       "      <td>222</td>\n",
       "      <td>226</td>\n",
       "      <td>219</td>\n",
       "      <td>223</td>\n",
       "      <td>229</td>\n",
       "      <td>...</td>\n",
       "      <td>92</td>\n",
       "      <td>56</td>\n",
       "      <td>99</td>\n",
       "      <td>86</td>\n",
       "      <td>49</td>\n",
       "      <td>95</td>\n",
       "      <td>84</td>\n",
       "      <td>43</td>\n",
       "      <td>92</td>\n",
       "      <td>84</td>\n",
       "    </tr>\n",
       "    <tr>\n",
       "      <th>4</th>\n",
       "      <td>148</td>\n",
       "      <td>154</td>\n",
       "      <td>159</td>\n",
       "      <td>147</td>\n",
       "      <td>153</td>\n",
       "      <td>158</td>\n",
       "      <td>150</td>\n",
       "      <td>156</td>\n",
       "      <td>161</td>\n",
       "      <td>158</td>\n",
       "      <td>...</td>\n",
       "      <td>132</td>\n",
       "      <td>131</td>\n",
       "      <td>136</td>\n",
       "      <td>134</td>\n",
       "      <td>130</td>\n",
       "      <td>135</td>\n",
       "      <td>133</td>\n",
       "      <td>128</td>\n",
       "      <td>133</td>\n",
       "      <td>131</td>\n",
       "    </tr>\n",
       "    <tr>\n",
       "      <th>...</th>\n",
       "      <td>...</td>\n",
       "      <td>...</td>\n",
       "      <td>...</td>\n",
       "      <td>...</td>\n",
       "      <td>...</td>\n",
       "      <td>...</td>\n",
       "      <td>...</td>\n",
       "      <td>...</td>\n",
       "      <td>...</td>\n",
       "      <td>...</td>\n",
       "      <td>...</td>\n",
       "      <td>...</td>\n",
       "      <td>...</td>\n",
       "      <td>...</td>\n",
       "      <td>...</td>\n",
       "      <td>...</td>\n",
       "      <td>...</td>\n",
       "      <td>...</td>\n",
       "      <td>...</td>\n",
       "      <td>...</td>\n",
       "      <td>...</td>\n",
       "    </tr>\n",
       "    <tr>\n",
       "      <th>962</th>\n",
       "      <td>31</td>\n",
       "      <td>17</td>\n",
       "      <td>19</td>\n",
       "      <td>30</td>\n",
       "      <td>16</td>\n",
       "      <td>18</td>\n",
       "      <td>29</td>\n",
       "      <td>15</td>\n",
       "      <td>18</td>\n",
       "      <td>28</td>\n",
       "      <td>...</td>\n",
       "      <td>196</td>\n",
       "      <td>213</td>\n",
       "      <td>205</td>\n",
       "      <td>195</td>\n",
       "      <td>212</td>\n",
       "      <td>203</td>\n",
       "      <td>194</td>\n",
       "      <td>212</td>\n",
       "      <td>203</td>\n",
       "      <td>193</td>\n",
       "    </tr>\n",
       "    <tr>\n",
       "      <th>963</th>\n",
       "      <td>255</td>\n",
       "      <td>255</td>\n",
       "      <td>255</td>\n",
       "      <td>255</td>\n",
       "      <td>255</td>\n",
       "      <td>255</td>\n",
       "      <td>255</td>\n",
       "      <td>255</td>\n",
       "      <td>255</td>\n",
       "      <td>255</td>\n",
       "      <td>...</td>\n",
       "      <td>255</td>\n",
       "      <td>255</td>\n",
       "      <td>255</td>\n",
       "      <td>255</td>\n",
       "      <td>255</td>\n",
       "      <td>255</td>\n",
       "      <td>255</td>\n",
       "      <td>255</td>\n",
       "      <td>255</td>\n",
       "      <td>255</td>\n",
       "    </tr>\n",
       "    <tr>\n",
       "      <th>964</th>\n",
       "      <td>75</td>\n",
       "      <td>73</td>\n",
       "      <td>95</td>\n",
       "      <td>74</td>\n",
       "      <td>74</td>\n",
       "      <td>94</td>\n",
       "      <td>71</td>\n",
       "      <td>73</td>\n",
       "      <td>90</td>\n",
       "      <td>67</td>\n",
       "      <td>...</td>\n",
       "      <td>87</td>\n",
       "      <td>61</td>\n",
       "      <td>160</td>\n",
       "      <td>91</td>\n",
       "      <td>57</td>\n",
       "      <td>159</td>\n",
       "      <td>96</td>\n",
       "      <td>48</td>\n",
       "      <td>154</td>\n",
       "      <td>94</td>\n",
       "    </tr>\n",
       "    <tr>\n",
       "      <th>965</th>\n",
       "      <td>33</td>\n",
       "      <td>70</td>\n",
       "      <td>60</td>\n",
       "      <td>33</td>\n",
       "      <td>70</td>\n",
       "      <td>60</td>\n",
       "      <td>34</td>\n",
       "      <td>71</td>\n",
       "      <td>61</td>\n",
       "      <td>34</td>\n",
       "      <td>...</td>\n",
       "      <td>60</td>\n",
       "      <td>36</td>\n",
       "      <td>70</td>\n",
       "      <td>60</td>\n",
       "      <td>36</td>\n",
       "      <td>70</td>\n",
       "      <td>60</td>\n",
       "      <td>36</td>\n",
       "      <td>70</td>\n",
       "      <td>60</td>\n",
       "    </tr>\n",
       "    <tr>\n",
       "      <th>966</th>\n",
       "      <td>56</td>\n",
       "      <td>100</td>\n",
       "      <td>94</td>\n",
       "      <td>52</td>\n",
       "      <td>95</td>\n",
       "      <td>88</td>\n",
       "      <td>44</td>\n",
       "      <td>88</td>\n",
       "      <td>81</td>\n",
       "      <td>40</td>\n",
       "      <td>...</td>\n",
       "      <td>47</td>\n",
       "      <td>88</td>\n",
       "      <td>59</td>\n",
       "      <td>47</td>\n",
       "      <td>87</td>\n",
       "      <td>57</td>\n",
       "      <td>42</td>\n",
       "      <td>89</td>\n",
       "      <td>59</td>\n",
       "      <td>40</td>\n",
       "    </tr>\n",
       "  </tbody>\n",
       "</table>\n",
       "<p>967 rows × 49152 columns</p>\n",
       "</div>"
      ],
      "text/plain": [
       "     0      1      2      3      4      5      6      7      8      9      \\\n",
       "0        0      1      0      0      3      1      3      8      6      9   \n",
       "1      255    255    255    255    255    255    255    255    255    255   \n",
       "2      201    178    186    197    180    187    175    167    172    135   \n",
       "3      221    215    220    223    217    222    226    219    223    229   \n",
       "4      148    154    159    147    153    158    150    156    161    158   \n",
       "..     ...    ...    ...    ...    ...    ...    ...    ...    ...    ...   \n",
       "962     31     17     19     30     16     18     29     15     18     28   \n",
       "963    255    255    255    255    255    255    255    255    255    255   \n",
       "964     75     73     95     74     74     94     71     73     90     67   \n",
       "965     33     70     60     33     70     60     34     71     61     34   \n",
       "966     56    100     94     52     95     88     44     88     81     40   \n",
       "\n",
       "     ...  49142  49143  49144  49145  49146  49147  49148  49149  49150  49151  \n",
       "0    ...    146    108    121    143    108    121    143    109    122    144  \n",
       "1    ...    255    255    255    255    255    255    255    255    255    255  \n",
       "2    ...    173    146    156    170    145    153    165    145    152    161  \n",
       "3    ...     92     56     99     86     49     95     84     43     92     84  \n",
       "4    ...    132    131    136    134    130    135    133    128    133    131  \n",
       "..   ...    ...    ...    ...    ...    ...    ...    ...    ...    ...    ...  \n",
       "962  ...    196    213    205    195    212    203    194    212    203    193  \n",
       "963  ...    255    255    255    255    255    255    255    255    255    255  \n",
       "964  ...     87     61    160     91     57    159     96     48    154     94  \n",
       "965  ...     60     36     70     60     36     70     60     36     70     60  \n",
       "966  ...     47     88     59     47     87     57     42     89     59     40  \n",
       "\n",
       "[967 rows x 49152 columns]"
      ]
     },
     "execution_count": 40,
     "metadata": {},
     "output_type": "execute_result"
    }
   ],
   "source": [
    "pd.DataFrame(pic)"
   ]
  },
  {
   "cell_type": "code",
   "execution_count": 11,
   "id": "06a0a30d",
   "metadata": {},
   "outputs": [],
   "source": [
    "df2 = pd.DataFrame(pic)"
   ]
  },
  {
   "cell_type": "code",
   "execution_count": 13,
   "id": "21bf8578",
   "metadata": {},
   "outputs": [],
   "source": [
    "df = pd.concat([df1,df2],axis=1)"
   ]
  },
  {
   "cell_type": "code",
   "execution_count": 14,
   "id": "2031087c",
   "metadata": {},
   "outputs": [],
   "source": [
    "df.to_csv(\"final.csv\")"
   ]
  },
  {
   "cell_type": "markdown",
   "id": "7bea3dde",
   "metadata": {},
   "source": [
    "## Model building"
   ]
  },
  {
   "cell_type": "code",
   "execution_count": 13,
   "id": "8b71cea9",
   "metadata": {},
   "outputs": [],
   "source": [
    "from sklearn.metrics import accuracy_score\n",
    "from sklearn.model_selection import train_test_split"
   ]
  },
  {
   "cell_type": "code",
   "execution_count": 14,
   "id": "677deb32",
   "metadata": {},
   "outputs": [],
   "source": [
    "df = pd.read_csv(\"final.csv\")"
   ]
  },
  {
   "cell_type": "code",
   "execution_count": 15,
   "id": "4e5ac3b2",
   "metadata": {},
   "outputs": [],
   "source": [
    "X = df.drop(\"Breed\",axis=1)\n",
    "y = df[\"Breed\"]"
   ]
  },
  {
   "cell_type": "code",
   "execution_count": 16,
   "id": "3cc87b0d",
   "metadata": {},
   "outputs": [],
   "source": [
    "X_train, X_test, y_train, y_test = train_test_split(X, y, test_size=0.2, random_state=22)"
   ]
  },
  {
   "cell_type": "code",
   "execution_count": 17,
   "id": "c6f3a1a2",
   "metadata": {},
   "outputs": [
    {
     "data": {
      "text/plain": [
       "0.9948453608247423"
      ]
     },
     "execution_count": 17,
     "metadata": {},
     "output_type": "execute_result"
    }
   ],
   "source": [
    "from sklearn.tree import DecisionTreeClassifier\n",
    "dt = DecisionTreeClassifier()\n",
    "dt.fit(X_train,y_train)\n",
    "y_pred = dt.predict(X_test)\n",
    "accuracy_score(y_pred,y_test)"
   ]
  },
  {
   "cell_type": "code",
   "execution_count": 18,
   "id": "07d3f441",
   "metadata": {},
   "outputs": [
    {
     "data": {
      "text/plain": [
       "0.788659793814433"
      ]
     },
     "execution_count": 18,
     "metadata": {},
     "output_type": "execute_result"
    }
   ],
   "source": [
    "from sklearn.neighbors import KNeighborsClassifier\n",
    "knn = KNeighborsClassifier()\n",
    "knn.fit(X_train,y_train)\n",
    "y_pred = knn.predict(X_test)\n",
    "accuracy_score(y_pred,y_test)"
   ]
  },
  {
   "cell_type": "markdown",
   "id": "fafe49be",
   "metadata": {},
   "source": [
    "## pickling"
   ]
  },
  {
   "cell_type": "code",
   "execution_count": 19,
   "id": "3cb0cce5",
   "metadata": {},
   "outputs": [],
   "source": [
    "#import pickle"
   ]
  },
  {
   "cell_type": "code",
   "execution_count": 20,
   "id": "05ed6b67",
   "metadata": {},
   "outputs": [],
   "source": [
    "# dumping the pickle file\n",
    "pickle.dump(dt,open(r\"D:\\images data\\dataset\\dt_model.plk\",'wb'))"
   ]
  },
  {
   "cell_type": "code",
   "execution_count": null,
   "id": "731c1ad3",
   "metadata": {},
   "outputs": [],
   "source": []
  },
  {
   "cell_type": "code",
   "execution_count": 41,
   "id": "7131e05e",
   "metadata": {},
   "outputs": [
    {
     "name": "stdout",
     "output_type": "stream",
     "text": [
      "1.5.1\n"
     ]
    }
   ],
   "source": [
    "import sklearn\n",
    "print(sklearn.__version__)"
   ]
  },
  {
   "cell_type": "code",
   "execution_count": 42,
   "id": "3954a091",
   "metadata": {},
   "outputs": [
    {
     "name": "stdout",
     "output_type": "stream",
     "text": [
      "1.24.3\n"
     ]
    }
   ],
   "source": [
    "import numpy\n",
    "print(numpy.__version__)"
   ]
  },
  {
   "cell_type": "code",
   "execution_count": 43,
   "id": "5b5d05b4",
   "metadata": {},
   "outputs": [
    {
     "name": "stdout",
     "output_type": "stream",
     "text": [
      "2.2.2\n"
     ]
    }
   ],
   "source": [
    "import pandas\n",
    "print(pandas.__version__)"
   ]
  },
  {
   "cell_type": "code",
   "execution_count": null,
   "id": "07b0119a",
   "metadata": {},
   "outputs": [],
   "source": []
  }
 ],
 "metadata": {
  "kernelspec": {
   "display_name": "Python 3 (ipykernel)",
   "language": "python",
   "name": "python3"
  },
  "language_info": {
   "codemirror_mode": {
    "name": "ipython",
    "version": 3
   },
   "file_extension": ".py",
   "mimetype": "text/x-python",
   "name": "python",
   "nbconvert_exporter": "python",
   "pygments_lexer": "ipython3",
   "version": "3.11.5"
  }
 },
 "nbformat": 4,
 "nbformat_minor": 5
}
